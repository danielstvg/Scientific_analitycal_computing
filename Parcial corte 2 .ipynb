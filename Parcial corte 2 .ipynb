{
  "nbformat": 4,
  "nbformat_minor": 5,
  "metadata": {
    "kernelspec": {
      "display_name": "Python 3",
      "language": "python",
      "name": "python3"
    },
    "language_info": {
      "codemirror_mode": {
        "name": "ipython",
        "version": 3
      },
      "file_extension": ".py",
      "mimetype": "text/x-python",
      "name": "python",
      "nbconvert_exporter": "python",
      "pygments_lexer": "ipython3",
      "version": "3.8.5"
    },
    "colab": {
      "name": "Parcial corte 2 .ipynb",
      "provenance": [],
      "toc_visible": true,
      "include_colab_link": true
    }
  },
  "cells": [
    {
      "cell_type": "markdown",
      "metadata": {
        "id": "view-in-github",
        "colab_type": "text"
      },
      "source": [
        "<a href=\"https://colab.research.google.com/github/danielstvg/Scientific_analitycal_computing/blob/main/Parcial%20corte%202%20.ipynb\" target=\"_parent\"><img src=\"https://colab.research.google.com/assets/colab-badge.svg\" alt=\"Open In Colab\"/></a>"
      ]
    },
    {
      "cell_type": "markdown",
      "metadata": {
        "id": "alien-speaking"
      },
      "source": [
        "## Parcial corte 2 - Computación cientifíca y análitica.\n",
        "* Daniel Steven Vargas Guzmán [dsvargas@unbosque.edu.co](mailto://dsvargas@unbosque.edu.co)\n",
        "*26 de Abril del 2021\n"
      ],
      "id": "alien-speaking"
    },
    {
      "cell_type": "markdown",
      "metadata": {
        "id": "charitable-documentation"
      },
      "source": [
        "### Parte 1 - Preguntas Abiertas (35%) \n",
        "\n",
        "Para resolver las siguientes preguntas, por favor construya respuestas debidamente\n",
        "estructuradas, las cuales respondan de forma clara, concisa y elocuente a los enunciados. En lo\n",
        "posible, construya párrafos críticos y argumentativos. Si va a incluir contenidos de otras\n",
        "fuentes en sus respuestas, no olvide citarlas de forma adecuada y consistente."
      ],
      "id": "charitable-documentation"
    },
    {
      "cell_type": "markdown",
      "metadata": {
        "id": "analyzed-plate"
      },
      "source": [
        "#### 1. Explique, en sus propias palabras, ¿qué es la librería Numpy? \n",
        "\n",
        "NumPy es una librería dispuesta para funciones matemáticas para una serie de datos de entrada como lo pueden ser arreglos o matrices, esta librería permite no solo la transformación de la información inmersa con funciones que corresponden al álgebra lineal, esta permite la manipulación de la información de manera más eficaz y rápida.\n",
        "\n",
        "#### Discuta qué ventajas nos ofrece con respecto a las funcionalidades incluidas por defecto en la librería estándar de Python.\n",
        "\n",
        "Las funcionalidades básicas con respecto a la manipultación van desde la creación del mismo array, poder realizar consultas a modo de slicing, cambiar y verificar el tipo de dato con respecto a la información contenida, este puede manipularse de tal forma que se puedan guardar copias, vistas, diferentes formas de visualización como lo puede manipular un reshape. Además de funciones para poder ordenar y buscar la información interna.\n"
      ],
      "id": "analyzed-plate"
    },
    {
      "cell_type": "markdown",
      "metadata": {
        "id": "herbal-wings"
      },
      "source": [
        "#### 2. Explique, en sus propias palabras, ¿qué similitudes y diferencias existen entre un Arreglo de Numpy y los objetos de tipo lista?\n",
        "\n",
        "Una de sus grandes diferencias es la manipulación de las listas vs los arreglos de los numpy, en numpy son mucho más escalables y eficases, de este modo, se puede afirmar que Numpy a nivel de funcionalidad es mucho más optimo que las listas normales, debido a que este implementa más funciones de busqueda sin la necesidad de un código extenso para la implementación de visualización o extración de datos, por que en NumPy se puede usar slicing."
      ],
      "id": "herbal-wings"
    },
    {
      "cell_type": "markdown",
      "metadata": {
        "id": "interesting-skiing"
      },
      "source": [
        "#### 3. ¿Qué implicaciones prácticas tiene el hecho de que Numpy implemente sus operaciones entre arreglos, en lenguajes de bajo nivel como C o Fortran?\n",
        "\n",
        "En Numpy se puede implementar matrices que usan vistas de buferes de memoria que se asignan a lenguajes de C o C++ y Fortran, que se usa como interprete de CPython para mitigar requerir la copia de datos, lo cual implica una gran compatibilidad de las biblotecas de esta librería. Teniendo en cuenta digamos Fortran tiene una sintaxis compleja debido a que esta se considera algo arcaica.\n",
        "\n",
        "Dichas matrices también pueden ser vistas en búferes de memoria asignados por extensiones de C o C++, Cython y Fortran al intérprete CPython sin la necesidad de copiar datos, lo que brinda un mayor grado de compatibilidad con las bibliotecas numéricas existentes. \n",
        "\n",
        "\n",
        "Estos son vinculos referenciados a [C][1]  y [Fortran][2].\n",
        "\n",
        "[1]: https://www.w3schools.com/python/numpy/numpy_intro.asp \"Lenguaje de alto nivel C\"\n",
        "[2]: https://es.wikipedia.org/wiki/Fortran#:~:text=El%20primer%20manual%20de%20FORTRAN,a%20mano%20en%20lenguaje%20ensamblador. \"Lenguaje de alto nivel Fortran\""
      ],
      "id": "interesting-skiing"
    },
    {
      "cell_type": "markdown",
      "metadata": {
        "id": "relative-sampling"
      },
      "source": [
        "#### 4. Explique, en sus propias palabras, ¿qué diferencia hay entre una vista y una copia a un arreglo? \n",
        "\n",
        "_Una vista:_ es la vista como si fuera un acceso directo al dataframe, este en caso de ser modificado, modifica el dataframe origianal\n",
        "\n",
        "_Una copia:_ Copia exacta, la cual se puede modificar la copia pero no el dataframe de donde proviene\n",
        "\n",
        "En terminos generales en cuestión a la replicación de la información es la misma, solo que a nivel de modificación difiere"
      ],
      "id": "relative-sampling"
    },
    {
      "cell_type": "markdown",
      "metadata": {
        "id": "transsexual-madagascar"
      },
      "source": [
        "#### 5. Explique, en sus propias palabras, ¿qué es la librería Pandas, y qué ventajas nos ofrece con respecto a las funcionalidades incluidas por defecto en la librería estándar de Python? \n",
        "\n",
        "Es una librería que provee funciones que se describen para la manipulación y analisis de datos, en particular a los dataframe, este hace referencia a \"panel data\", generalmente se usa para analizar datos, en el área de big data, las ventajas que este nos provee van desde la manipulación de la información, reestructuración de la misma, agrupación, mezcla, unión, inserción, supresión y edición de las columnas o filas.\n"
      ],
      "id": "transsexual-madagascar"
    },
    {
      "cell_type": "markdown",
      "metadata": {
        "id": "union-dylan"
      },
      "source": [
        "#### 6. En sus propias palabras, explique la relación existe entre la librería Pandas y la librería Numpy. \n",
        "\n",
        "_1. Numpy:_ Librería predispuesta para la manipulación de la información usando algoritmos matemáticos como el algebra lineal\n",
        "\n",
        "_2. Pandas:_ Libreria predispuesta para la manipulación desde el punto de vistal del análisis de datos, en terminos de visualización de la información de manera que se pueda tomar desiciones\n"
      ],
      "id": "union-dylan"
    },
    {
      "cell_type": "markdown",
      "metadata": {
        "id": "piano-interference"
      },
      "source": [
        "#### 7. Compare las ventajas, desventajas, similitudes, diferencias y discuta en qué escenarios puede ser favorable utilizar:\n",
        "* Las estructuras de datos incluidas en la librería estándar de Python\n",
        "    * Listas, Listas de Listas\n",
        "        * Expresan listas normales con acceso según un indice, estableciendo una estructura básica de almacenamiento de los datos en forma de lista o de matriz. Estas permiten la inserción, borrado, concatenación, slicing, compresion y métodos específicos para objetos de lista.\n",
        "    * Tuplas\n",
        "        * Expresan listas inmutables y estan definidas por la estructura (0,0)\n",
        "    * Diccionarios \n",
        "        * Acceso directo a un conjunto de datos no ordenados de objetos, estos se acceden con la llave y/o el valor que la contenga y no por posiciones\n",
        "        \n",
        "        \n",
        "* Arreglos de Numpy (1D, 2D, 3D, …, n-dimensionales)\n",
        "    * Estos a arreglos por lo genral tienen un acceso directo con las llaves [], permitniendo ejecutar estratefías de selección de datos como lo es slicing, y funciones especícas con las cuales podemos conocer propiedades como promedio, sumas, diferencias (expresadas como funciones vectorizadas). Además de la construción de arreglos con n-dimensión, el cual podemos modificar como nos plazca siempre y cuando seca coherente la transformación de la información interna.\n",
        "* Series y DataFrames de Pandas\n",
        "    * Las series permiten almacenar datos de manera unidimensional, los cuales puede almacenar datos heterogeneos y asignar etiquetas a partir de la información almacenada. Para poder acceder a stos se usan las llaves del diccionario que se usan para indicar el indice sobre la serie, este ofrece funciones tales que retornen listas tales como np.lindspace() o arange().\n",
        "    * Dataframes: Son estructuras de base dimensional, el cual tamien ofrece el almacenamiento de objetos heterogenos, en el cual podemos usar funciones de numpy, importarlos de fuentes de información externos como lo son TXT o CSV, modificar la geometría en la cual se presenta, retornar partes especificas del mismo a modo de ejemplo en sus datos internos. Por ultimo los dataframes permiten visualizar la información de manera ordenada y la seleccion de datos para representaciones gráficas como lo son gráficas que se implementan con la librería Matplotlib"
      ],
      "id": "piano-interference"
    },
    {
      "cell_type": "markdown",
      "metadata": {
        "id": "pressing-system"
      },
      "source": [
        "#### 8. Explique, en sus propias palabras, ¿qué es la librería Matplotlib? Discuta qué funcionalidades y facilidades ofrece, con respecto a Python, Numpy y Pandas.\n",
        "\n",
        "La librería de Matplotlib permite la visualización de la información de los datos almacenados sea desde cualquier frame o lista de datos que se manipulan a lo largo de su importación, por lo que esta librería nos presenta el comportamiento de la información de manera gráfica, en diferentes perspectivas sea en 2D y 3D, como lo son en diagramas de barras, histogramas, área, mapa de calor, entre otros."
      ],
      "id": "pressing-system"
    },
    {
      "cell_type": "markdown",
      "metadata": {
        "id": "direct-kansas"
      },
      "source": [
        "### Parte 2 - Preguntas Prácticas (35%) \n",
        "\n",
        "Para resolver las siguientes preguntas, por favor asegúrese de importar los paquetes necesarios\n",
        "de acuerdo a las convenciones discutidas en clase. Asegúrese también de incluir los enunciados\n",
        "de cada problema como celdas de Markdown, y de proveer código y resultados que den soporte\n",
        "a sus respuestas.\n"
      ],
      "id": "direct-kansas"
    },
    {
      "cell_type": "markdown",
      "metadata": {
        "id": "therapeutic-albania"
      },
      "source": [
        "#### 9. De dos ejemplos de métodos y/o funciones de Numpy que retornen una vista al arreglo original, y de cómo utilizarlos adecuadamente\n",
        "\n"
      ],
      "id": "therapeutic-albania"
    },
    {
      "cell_type": "code",
      "metadata": {
        "id": "electronic-trash",
        "outputId": "87eb7352-766f-46bb-8110-54338e8ff9d4"
      },
      "source": [
        "import numpy as np\n",
        "import pandas as pd\n",
        "import matplotlib.pyplot as plt\n",
        "from numpy import array\n",
        "\n",
        "arreglo = [1,2,3,4,5,6,7,8,9,10]\n",
        "def vistas():\n",
        "    vista = arreglo[0:]\n",
        "    return(vista)\n",
        "\n",
        "print(\"vista 1: \",vistas())\n",
        "\n",
        "arreglo2 = array([[1,2,3],[6,7,8],[4,5,6]])\n",
        "\n",
        "def vistas2():\n",
        "    Y = arreglo2.reshape(3,3)\n",
        "    return Y\n",
        "print(\"vista 2: \\n\",vistas2())\n"
      ],
      "id": "electronic-trash",
      "execution_count": null,
      "outputs": [
        {
          "output_type": "stream",
          "text": [
            "vista 1:  [1, 2, 3, 4, 5, 6, 7, 8, 9, 10]\n",
            "vista 2: \n",
            " [[1 2 3]\n",
            " [6 7 8]\n",
            " [4 5 6]]\n"
          ],
          "name": "stdout"
        }
      ]
    },
    {
      "cell_type": "markdown",
      "metadata": {
        "id": "adjustable-waters"
      },
      "source": [
        "#### 10. De dos ejemplos de métodos y/o funciones de Numpy que retornen una copia del arreglo original, y de cómo utilizarlos adecuadamente"
      ],
      "id": "adjustable-waters"
    },
    {
      "cell_type": "code",
      "metadata": {
        "id": "automated-alabama",
        "outputId": "3d93ce7f-f4f7-4308-e820-0bfaf8537c07"
      },
      "source": [
        "import numpy as np\n",
        "\n",
        "\n",
        "arreglo = [1,2,3,4,5,6,7,8,9,10]\n",
        "def copias():\n",
        "    copia = np.array(copia)\n",
        "    return(copia)\n",
        "\n",
        "print(\"Copia 1: \",vistas())\n",
        "\n",
        "arreglo2 = array([[1,2,3],[6,7,8],[4,5,6]])\n",
        "def copia_flatten():\n",
        "    return arreglo2.flatten()\n",
        "print(\"Copia 2: \",copia_flatten())\n",
        "    \n"
      ],
      "id": "automated-alabama",
      "execution_count": null,
      "outputs": [
        {
          "output_type": "stream",
          "text": [
            "Copia 1:  [1, 2, 3, 4, 5, 6, 7, 8, 9, 10]\n",
            "Copia 2:  [1 2 3 6 7 8 4 5 6]\n"
          ],
          "name": "stdout"
        }
      ]
    },
    {
      "cell_type": "markdown",
      "metadata": {
        "id": "married-possible"
      },
      "source": [
        "#### 11. De dos ejemplos de operaciones vectorizadas de Numpy, e implemente su función equivalente utilizando únicamente las funcionalidades disponibles en la librería estándar de Python. Pruebe que sus resultados sean iguales.\n",
        "\n"
      ],
      "id": "married-possible"
    },
    {
      "cell_type": "code",
      "metadata": {
        "id": "pressing-arabic",
        "outputId": "d70100e2-5153-4ee3-b5c5-f959157e2b64"
      },
      "source": [
        "arreglo = np.array([[2,4],[1,2]])\n",
        "print(\"Suma de los elementos sobre el arreglo definido\")\n",
        "print(np.sum(arreglo, axis=0))\n",
        "print(\"multiplicación de los elementos sobre el arreglo definido\")\n",
        "print(np.prod(arreglo, axis=0))\n",
        "print(\"diferencia discreta de los elementos sobre el arreglo definido\")\n",
        "print(np.diff(arreglo, axis=0))\n",
        "print(\"Promedio entre los elementos del arreglo definido\")\n",
        "print(np.mean(arreglo, axis=0))\n"
      ],
      "id": "pressing-arabic",
      "execution_count": null,
      "outputs": [
        {
          "output_type": "stream",
          "text": [
            "Suma de los elementos sobre el arreglo definido\n",
            "[3 6]\n",
            "multiplicación de los elementos sobre el arreglo definido\n",
            "[2 8]\n",
            "diferencia discreta de los elementos sobre el arreglo definido\n",
            "[[-1 -2]]\n",
            "Promedio entre los elementos del arreglo definido\n",
            "[1.5 3. ]\n"
          ],
          "name": "stdout"
        }
      ]
    },
    {
      "cell_type": "markdown",
      "metadata": {
        "id": "young-mother"
      },
      "source": [
        "#### 12. Para responder a las siguientes preguntas, por favor utilice el conjunto de datos adjunto al enunciado de este parcial en el Aula Virtual, llamado Parcial2_COVID19_Colombia.csv. El data set es un archivo de texto plano, en formato CSV (valores separados por comas), con 832,995 filas, 6 columnas y pesa 35MB. Éste contiene datos sobre algunos casos de COVID-19 (SARSCoV-2), entre marzo 6 y octubre 15 de 2020, en Colombia. Específicamente, contiene información sobre los pacientes que se han recuperado de la enfermedad. El contenido de las columnas del archivo se describe a continuación:\n",
        "\n",
        "* **ID:** el número del caso positivo por COVID-19; único para cada paciente. Número\n",
        "entero.\n",
        "* **DEPARTAMENTO:** Nombre del departamento o distrito del territorio nacional, en el cual fue registrado el caso. Cadena de caracteres.\n",
        "* **EDAD:** Edad del paciente en años. Número entero.\n",
        "* **SEXO:** Sexo del paciente. Caracter.\n",
        "* **ORIGEN:** Origen del paciente: Colombiano o Extranjero. Cadena de caracteres.\n",
        "* **RECUPERACION:** Tiempo de recuperación, en días, desde que el paciente fue diagnosticado con COVID-19, hasta que se recuperó de la enfermedad. Número entero\n",
        "\n",
        "Los datos utilizados para este examen son un subconjunto de los que están disponibles en la\n",
        "página del Humanitarian Data Exchage, de la Oficina de las Naciones Unidas para la\n",
        "coordinación de Asuntos Humanitarios (UN OCHA): https://data.humdata.org/dataset/positivecases-of-covid-19-in-colombia."
      ],
      "id": "young-mother"
    },
    {
      "cell_type": "markdown",
      "metadata": {
        "id": "labeled-resistance"
      },
      "source": [
        "##### 12.a Lea el conjunto de datos a su ambiente de trabajo, y asegúrese de que cada columna del archivo es representada con el tipo correcto de dato. Use su mejor criterio a la hora de importar los datos."
      ],
      "id": "labeled-resistance"
    },
    {
      "cell_type": "code",
      "metadata": {
        "id": "atomic-reach",
        "outputId": "7d819280-efb0-4cd1-d8c1-dbb2735f8c03"
      },
      "source": [
        "\n",
        "\n",
        "df = pd.read_csv(r\"C:\\Users\\ASUS X542U\\AMBIENTE DE TRABAJO\\Parcial2_COVID19_Colombia.csv\")\n",
        "df.head()\n"
      ],
      "id": "atomic-reach",
      "execution_count": null,
      "outputs": [
        {
          "output_type": "execute_result",
          "data": {
            "text/html": [
              "<div>\n",
              "<style scoped>\n",
              "    .dataframe tbody tr th:only-of-type {\n",
              "        vertical-align: middle;\n",
              "    }\n",
              "\n",
              "    .dataframe tbody tr th {\n",
              "        vertical-align: top;\n",
              "    }\n",
              "\n",
              "    .dataframe thead th {\n",
              "        text-align: right;\n",
              "    }\n",
              "</style>\n",
              "<table border=\"1\" class=\"dataframe\">\n",
              "  <thead>\n",
              "    <tr style=\"text-align: right;\">\n",
              "      <th></th>\n",
              "      <th>ID</th>\n",
              "      <th>DEPARTAMENTO</th>\n",
              "      <th>EDAD</th>\n",
              "      <th>SEXO</th>\n",
              "      <th>ORIGEN</th>\n",
              "      <th>RECUPERACION</th>\n",
              "    </tr>\n",
              "  </thead>\n",
              "  <tbody>\n",
              "    <tr>\n",
              "      <th>0</th>\n",
              "      <td>1.0</td>\n",
              "      <td>Bogotá D.C.</td>\n",
              "      <td>19</td>\n",
              "      <td>F</td>\n",
              "      <td>EXTRANJERO</td>\n",
              "      <td>7</td>\n",
              "    </tr>\n",
              "    <tr>\n",
              "      <th>1</th>\n",
              "      <td>2.0</td>\n",
              "      <td>Valle del Cauca</td>\n",
              "      <td>34</td>\n",
              "      <td>M</td>\n",
              "      <td>EXTRANJERO</td>\n",
              "      <td>10</td>\n",
              "    </tr>\n",
              "    <tr>\n",
              "      <th>2</th>\n",
              "      <td>3.0</td>\n",
              "      <td>Antioquia</td>\n",
              "      <td>50</td>\n",
              "      <td>F</td>\n",
              "      <td>EXTRANJERO</td>\n",
              "      <td>6</td>\n",
              "    </tr>\n",
              "    <tr>\n",
              "      <th>3</th>\n",
              "      <td>4.0</td>\n",
              "      <td>Antioquia</td>\n",
              "      <td>55</td>\n",
              "      <td>M</td>\n",
              "      <td>COLOMBIA</td>\n",
              "      <td>15</td>\n",
              "    </tr>\n",
              "    <tr>\n",
              "      <th>4</th>\n",
              "      <td>5.0</td>\n",
              "      <td>Antioquia</td>\n",
              "      <td>25</td>\n",
              "      <td>M</td>\n",
              "      <td>COLOMBIA</td>\n",
              "      <td>12</td>\n",
              "    </tr>\n",
              "  </tbody>\n",
              "</table>\n",
              "</div>"
            ],
            "text/plain": [
              "    ID     DEPARTAMENTO  EDAD SEXO      ORIGEN  RECUPERACION\n",
              "0  1.0      Bogotá D.C.    19    F  EXTRANJERO             7\n",
              "1  2.0  Valle del Cauca    34    M  EXTRANJERO            10\n",
              "2  3.0        Antioquia    50    F  EXTRANJERO             6\n",
              "3  4.0        Antioquia    55    M    COLOMBIA            15\n",
              "4  5.0        Antioquia    25    M    COLOMBIA            12"
            ]
          },
          "metadata": {
            "tags": []
          },
          "execution_count": 134
        }
      ]
    },
    {
      "cell_type": "code",
      "metadata": {
        "id": "damaged-personal",
        "outputId": "a6664c4b-31f0-4690-a015-6f0c3b11ba55"
      },
      "source": [
        "print(\"Tipo de dato del identificador: \",df['ID'].dtype)\n",
        "print(\"Tipo de dato del departamento: \",df['DEPARTAMENTO'].dtype)\n",
        "print(\"Tipo de dato del edad: \",df['EDAD'].dtype)\n",
        "print(\"Tipo de dato del sexo: \",df['SEXO'].dtype)\n",
        "print(\"Tipo de dato del origen: \",df['ORIGEN'].dtype)\n",
        "print(\"Tipo de dato del recuperación: \",df['RECUPERACION'].dtype)"
      ],
      "id": "damaged-personal",
      "execution_count": null,
      "outputs": [
        {
          "output_type": "stream",
          "text": [
            "Tipo de dato del identificador:  float64\n",
            "Tipo de dato del departamento:  object\n",
            "Tipo de dato del edad:  int64\n",
            "Tipo de dato del sexo:  object\n",
            "Tipo de dato del origen:  object\n",
            "Tipo de dato del recuperación:  int64\n"
          ],
          "name": "stdout"
        }
      ]
    },
    {
      "cell_type": "markdown",
      "metadata": {
        "id": "ahead-delivery"
      },
      "source": [
        "#### 12.b Produzca histogramas para cada una de las columnas en el data set (excepto el ID de cada caso). Asegúrese de presentar adecuadamente las gráficas, con títulos, nombres en los ejes y leyendas de ser necesario. Analice y describa lo que se puede inferir sobre cada uno de los histogramas."
      ],
      "id": "ahead-delivery"
    },
    {
      "cell_type": "code",
      "metadata": {
        "id": "matched-quick",
        "outputId": "0032a2ee-6d53-4ac6-a634-57376697535e"
      },
      "source": [
        "fig, (ax0, ax1) = plt.subplots(figsize=(22,8),ncols=2)\n",
        "fig, (ax2, ax3, ax4) = plt.subplots(figsize=(22,8),ncols=3)\n",
        "\n",
        "\n",
        "ax0.hist(df['DEPARTAMENTO'], label=\"Departamento\", bins=40, color=\"orangered\")\n",
        "#axo.xticks(rotation='verital')\n",
        "ax0.title.set_text(\"Departamento\")\n",
        "ax0.set_xticklabels(labels=df['DEPARTAMENTO'],rotation=45, ha='right') #nombre del eje x\n",
        "ax0.set_ylabel('Casos por departamento' ) #nombre del eje y\n",
        "\n",
        "\n",
        "ax1.hist(df['EDAD'], label=\"Discipacion\", bins=40, color=\"blue\")\n",
        "ax1.title.set_text(\"Edad\")\n",
        "ax1.set_xlabel('Registros') #nombre del eje x\n",
        "ax1.set_ylabel('Casos según la Edad') #nombre del eje y\n",
        "\n",
        "\n",
        "ax2.hist(df['SEXO'], label=\"Sexo\", bins=40, color=\"green\")\n",
        "ax2.title.set_text(\"Sexo\")\n",
        "ax2.set_xlabel('Registros') #nombre del eje x\n",
        "ax2.set_ylabel('Cantidad de casos con respecto a Sexo') #nombre del eje y\n",
        "\n",
        "ax3.hist(df['ORIGEN'], label=\"Origen\", bins=40, color=\"red\")\n",
        "ax3.title.set_text(\"Origen\")\n",
        "ax3.set_xlabel('Registros') #nombre del eje x\n",
        "ax3.set_ylabel('Casos positivos con respecto al origen') #nombre del eje y\n",
        "\n",
        "ax4.hist(df['RECUPERACION'], label=\"Recuperación\", bins=40, color=\"yellow\")\n",
        "ax4.title.set_text(\"Recupeación\")\n",
        "ax4.set_xlabel('Registros') #nombre del eje x\n",
        "ax4.set_ylabel('Nivel de recuperación') #nombre del eje y\n",
        "\n",
        "plt.tight_layout()\n",
        "plt.show()"
      ],
      "id": "matched-quick",
      "execution_count": null,
      "outputs": [
        {
          "output_type": "stream",
          "text": [
            "<ipython-input-136-22d1fe19d3cc>:8: UserWarning: FixedFormatter should only be used together with FixedLocator\n",
            "  ax0.set_xticklabels(labels=df['DEPARTAMENTO'],rotation=45, ha='right') #nombre del eje x\n"
          ],
          "name": "stderr"
        },
        {
          "output_type": "display_data",
          "data": {
            "image/png": "[encoded data removed]",
            "text/plain": [
              "<Figure size 1584x576 with 2 Axes>"
            ]
          },
          "metadata": {
            "tags": [],
            "needs_background": "light"
          }
        },
        {
          "output_type": "display_data",
          "data": {
            "image/png": "[encoded data removed]",
            "text/plain": [
              "<Figure size 1584x576 with 3 Axes>"
            ]
          },
          "metadata": {
            "tags": [],
            "needs_background": "light"
          }
        }
      ]
    },
    {
      "cell_type": "markdown",
      "metadata": {
        "id": "welsh-algebra"
      },
      "source": [
        "#### 12.c ¿Cuál es la proporción de casos de COVID-19 en Colombia, para pacientes de origen extranjero?"
      ],
      "id": "welsh-algebra"
    },
    {
      "cell_type": "code",
      "metadata": {
        "id": "preliminary-leadership",
        "outputId": "b4b9f2aa-fb11-4516-81ce-8f7af99083a0"
      },
      "source": [
        "print(\"Proporción de casos COVID-19 de origen extranjero: \\n\\n\",df['ORIGEN'].value_counts())\n",
        "\n",
        "print(\"\\n\\nA nivel porcentual \\n\\n\",100*df['ORIGEN'].value_counts() / len(df['ORIGEN']) )\n",
        "\n",
        "\n",
        "plot = (100 * df['ORIGEN'].value_counts() / len(df['ORIGEN'])).plot(kind='bar', title='Proporción de casos de COVID-19 %')\n",
        "fig.tight_layout()\n",
        "plt.show()\n",
        "\n",
        "pd.crosstab(index=df['ID'],columns=df['ORIGEN'], margins=True)\n",
        "\n"
      ],
      "id": "preliminary-leadership",
      "execution_count": null,
      "outputs": [
        {
          "output_type": "stream",
          "text": [
            "Proporción de casos COVID-19 de origen extranjero: \n",
            "\n",
            " COLOMBIA      832099\n",
            "EXTRANJERO       896\n",
            "Name: ORIGEN, dtype: int64\n",
            "\n",
            "\n",
            "A nivel porcentual \n",
            "\n",
            " COLOMBIA      99.892436\n",
            "EXTRANJERO     0.107564\n",
            "Name: ORIGEN, dtype: float64\n"
          ],
          "name": "stdout"
        },
        {
          "output_type": "display_data",
          "data": {
            "image/png": "[encoded data removed]",
            "text/plain": [
              "<Figure size 432x288 with 1 Axes>"
            ]
          },
          "metadata": {
            "tags": [],
            "needs_background": "light"
          }
        },
        {
          "output_type": "execute_result",
          "data": {
            "text/html": [
              "<div>\n",
              "<style scoped>\n",
              "    .dataframe tbody tr th:only-of-type {\n",
              "        vertical-align: middle;\n",
              "    }\n",
              "\n",
              "    .dataframe tbody tr th {\n",
              "        vertical-align: top;\n",
              "    }\n",
              "\n",
              "    .dataframe thead th {\n",
              "        text-align: right;\n",
              "    }\n",
              "</style>\n",
              "<table border=\"1\" class=\"dataframe\">\n",
              "  <thead>\n",
              "    <tr style=\"text-align: right;\">\n",
              "      <th>ORIGEN</th>\n",
              "      <th>COLOMBIA</th>\n",
              "      <th>EXTRANJERO</th>\n",
              "      <th>All</th>\n",
              "    </tr>\n",
              "    <tr>\n",
              "      <th>ID</th>\n",
              "      <th></th>\n",
              "      <th></th>\n",
              "      <th></th>\n",
              "    </tr>\n",
              "  </thead>\n",
              "  <tbody>\n",
              "    <tr>\n",
              "      <th>1.0</th>\n",
              "      <td>0</td>\n",
              "      <td>1</td>\n",
              "      <td>1</td>\n",
              "    </tr>\n",
              "    <tr>\n",
              "      <th>2.0</th>\n",
              "      <td>0</td>\n",
              "      <td>1</td>\n",
              "      <td>1</td>\n",
              "    </tr>\n",
              "    <tr>\n",
              "      <th>3.0</th>\n",
              "      <td>0</td>\n",
              "      <td>1</td>\n",
              "      <td>1</td>\n",
              "    </tr>\n",
              "    <tr>\n",
              "      <th>4.0</th>\n",
              "      <td>1</td>\n",
              "      <td>0</td>\n",
              "      <td>1</td>\n",
              "    </tr>\n",
              "    <tr>\n",
              "      <th>5.0</th>\n",
              "      <td>1</td>\n",
              "      <td>0</td>\n",
              "      <td>1</td>\n",
              "    </tr>\n",
              "    <tr>\n",
              "      <th>...</th>\n",
              "      <td>...</td>\n",
              "      <td>...</td>\n",
              "      <td>...</td>\n",
              "    </tr>\n",
              "    <tr>\n",
              "      <th>935650.0</th>\n",
              "      <td>1</td>\n",
              "      <td>0</td>\n",
              "      <td>1</td>\n",
              "    </tr>\n",
              "    <tr>\n",
              "      <th>935652.0</th>\n",
              "      <td>1</td>\n",
              "      <td>0</td>\n",
              "      <td>1</td>\n",
              "    </tr>\n",
              "    <tr>\n",
              "      <th>935671.0</th>\n",
              "      <td>1</td>\n",
              "      <td>0</td>\n",
              "      <td>1</td>\n",
              "    </tr>\n",
              "    <tr>\n",
              "      <th>935673.0</th>\n",
              "      <td>1</td>\n",
              "      <td>0</td>\n",
              "      <td>1</td>\n",
              "    </tr>\n",
              "    <tr>\n",
              "      <th>All</th>\n",
              "      <td>832099</td>\n",
              "      <td>896</td>\n",
              "      <td>832995</td>\n",
              "    </tr>\n",
              "  </tbody>\n",
              "</table>\n",
              "<p>832996 rows × 3 columns</p>\n",
              "</div>"
            ],
            "text/plain": [
              "ORIGEN    COLOMBIA  EXTRANJERO     All\n",
              "ID                                    \n",
              "1.0              0           1       1\n",
              "2.0              0           1       1\n",
              "3.0              0           1       1\n",
              "4.0              1           0       1\n",
              "5.0              1           0       1\n",
              "...            ...         ...     ...\n",
              "935650.0         1           0       1\n",
              "935652.0         1           0       1\n",
              "935671.0         1           0       1\n",
              "935673.0         1           0       1\n",
              "All         832099         896  832995\n",
              "\n",
              "[832996 rows x 3 columns]"
            ]
          },
          "metadata": {
            "tags": []
          },
          "execution_count": 137
        }
      ]
    },
    {
      "cell_type": "markdown",
      "metadata": {
        "id": "senior-literature"
      },
      "source": [
        "#### 12.d ¿Cuál es el tiempo medio de recuperación para los pacientes en Colombia? \n",
        "#### ¿Hay una diferencia entre el tiempo medio de recuperación para los hombres y las mujeres?"
      ],
      "id": "senior-literature"
    },
    {
      "cell_type": "code",
      "metadata": {
        "id": "considered-journalism",
        "outputId": "90b3f66d-5a5f-4f88-8d0c-49cbd6032a62"
      },
      "source": [
        "promedio = np.mean(df.RECUPERACION[df.ORIGEN == 'COLOMBIA'])\n",
        "print(\"El tiempo promedio de la recuperación de los pacientes con COVID-19 en Colombia es de: \",promedio)\n",
        "\n",
        "fig, (h, m, t) = plt.subplots(figsize=(22,8),ncols=3)\n",
        "hombres = df.RECUPERACION[df.SEXO == 'M']\n",
        "mujeres = df.RECUPERACION[df.SEXO == 'F']\n",
        "\n",
        "h.hist(hombres, bins = np.arange(0,80,5),label = 'Hombres', alpha = 0.5, color=\"green\")\n",
        "h.title.set_text(\"Recuperación en hombres\")\n",
        "h.set_xlabel('Distribución en hombres') #nombre del eje x\n",
        "h.set_ylabel('Tiempo de recuperación en mujeres') #nombre del eje y\n",
        "\n",
        "\n",
        "m.hist(mujeres, bins = np.arange(0,80,5),label = 'Mujeres', alpha = 0.5, color=\"red\")\n",
        "m.title.set_text(\"Recuperación en mujeres\")\n",
        "m.set_xlabel('Distribución en mujeres') #nombre del eje x\n",
        "m.set_ylabel('Tiempo de recuperación en mujeres') #nombre del eje y\n",
        "\n",
        "\n",
        "t.hist(hombres, bins = np.arange(0,80,5),label = 'Hombres', alpha = 0.5, color=\"green\")\n",
        "t.hist(mujeres, bins = np.arange(0,80,5),label = 'Hombres', alpha = 0.5, color=\"red\")\n",
        "t.title.set_text(\"Comparativa de recuperación entre hombres y mujeres\")\n",
        "t.set_xlabel('Distribución en mujeres y hombres') #nombre del eje x\n",
        "t.set_ylabel('Tiempo de recuperación en mujeres y hombres') #nombre del eje y\n"
      ],
      "id": "considered-journalism",
      "execution_count": null,
      "outputs": [
        {
          "output_type": "stream",
          "text": [
            "El tiempo promedio de la recuperación de los pacientes con COVID-19 en Colombia es de:  16.25130182826803\n"
          ],
          "name": "stdout"
        },
        {
          "output_type": "execute_result",
          "data": {
            "text/plain": [
              "Text(0, 0.5, 'Tiempo de recuperación en mujeres y hombres')"
            ]
          },
          "metadata": {
            "tags": []
          },
          "execution_count": 138
        },
        {
          "output_type": "display_data",
          "data": {
            "image/png": "[encoded data removed]",
            "text/plain": [
              "<Figure size 1584x576 with 3 Axes>"
            ]
          },
          "metadata": {
            "tags": [],
            "needs_background": "light"
          }
        }
      ]
    },
    {
      "cell_type": "markdown",
      "metadata": {
        "id": "assisted-transcript"
      },
      "source": [
        "#### Respuesta\n",
        "Teniendo en cuenta el comportamiento de recuperción en hombres y mujeres estos coinciden con el nivel promedio de la recuperación de los pacientes con COVID-19, mostrandolo a modo de histograma (el cual representa a nivel gráfico, la frecuencia a nivel de las clases en tiempo de recuperación, es decir, se visualiza el mismo comportamiento promedio sobre las hombres y las mujeres"
      ],
      "id": "assisted-transcript"
    },
    {
      "cell_type": "markdown",
      "metadata": {
        "id": "stuffed-commission"
      },
      "source": [
        "#### 12.e Clasificando a los pacientes en las siguientes categorías:\n",
        "* Niños: 0-11 años\n",
        "* Adolescentes: 12 – 17 años\n",
        "* Jóvenes: 18 – 29 años\n",
        "* Adultos: 30 – 59 años\n",
        "* Adultos mayores >= 60 años\n"
      ],
      "id": "stuffed-commission"
    },
    {
      "cell_type": "markdown",
      "metadata": {
        "id": "sustained-mayor"
      },
      "source": [
        "#### 12.e.1 Indique para cada una de las categorías cual es el tiempo medio de recuperación. ¿Hay diferencias entre los tiempos de recuperación para las distintas categorías?"
      ],
      "id": "sustained-mayor"
    },
    {
      "cell_type": "code",
      "metadata": {
        "id": "complimentary-italic",
        "outputId": "48ad2981-d037-422e-ade7-a750a374a677"
      },
      "source": [
        "niños = np.mean(df.RECUPERACION[df.EDAD <= 11])\n",
        "print(\"El tiempo promedio de la recuperación de la categoria niños es de: \",niños,'\\n')\n",
        "\n",
        "adolescentes = np.mean(df.RECUPERACION[df.EDAD <= 17][df.EDAD >=12])\n",
        "print(\"El tiempo promedio de la recuperación de la categoria adolescentes es de: \",adolescentes,'\\n')\n",
        "\n",
        "jovenes = np.mean(df.RECUPERACION[df.EDAD <= 29][df.EDAD >=18])\n",
        "print(\"El tiempo promedio de la recuperación de la categoria jovenes es de: \",jovenes,'\\n')\n",
        "\n",
        "adultos = np.mean(df.RECUPERACION[df.EDAD <= 59][df.EDAD >=30])\n",
        "print(\"El tiempo promedio de la recuperación de la categoria adultos es de: \",adultos,'\\n')\n",
        "\n",
        "adultos_mayores = np.mean(df.RECUPERACION[df.EDAD >= 60])\n",
        "print(\"El tiempo promedio de la recuperación de la categoria adultos mayores es de: \",adultos_mayores,'\\n')\n",
        "\n",
        "\n",
        "labels = ['Niños', 'Adolescentes', 'Jovenes', 'Adultos','Adultos mayores']\n",
        "sizes = [niños, adolescentes, jovenes, adultos, adultos_mayores]\n",
        "colors = ['#ff6666', '#ffcc99', '#99ff99', '#66b3ff','#c2c2f0']\n",
        "\n",
        "fig, ax = plt.subplots(figsize=(4, 2.5), dpi=144)\n",
        "\n",
        "colors = plt.cm.Dark2(range(6))\n",
        "y = labels\n",
        "width = sizes\n",
        "ax.barh(y=y, width=width, color=colors);\n",
        "ax.invert_yaxis()\n",
        "for i in ax.patches:\n",
        "\tplt.text(i.get_width()-2, i.get_y()+0.5,str(round((i.get_width()), 1)),fontsize = 10, fontweight ='bold',color ='black')\n",
        "\n",
        "\n",
        "\n",
        "\n",
        "\n"
      ],
      "id": "complimentary-italic",
      "execution_count": null,
      "outputs": [
        {
          "output_type": "stream",
          "text": [
            "El tiempo promedio de la recuperación de la categoria niños es de:  16.815336546099665 \n",
            "\n",
            "El tiempo promedio de la recuperación de la categoria adolescentes es de:  16.05241647082865 \n",
            "\n",
            "El tiempo promedio de la recuperación de la categoria jovenes es de:  15.978664277836375 \n",
            "\n",
            "El tiempo promedio de la recuperación de la categoria adultos es de:  16.147017880820957 \n",
            "\n",
            "El tiempo promedio de la recuperación de la categoria adultos mayores es de:  17.14245555459613 \n",
            "\n"
          ],
          "name": "stdout"
        },
        {
          "output_type": "display_data",
          "data": {
            "image/png": "[encoded data removed]",
            "text/plain": [
              "<Figure size 576x360 with 1 Axes>"
            ]
          },
          "metadata": {
            "tags": [],
            "needs_background": "light"
          }
        }
      ]
    },
    {
      "cell_type": "markdown",
      "metadata": {
        "id": "statewide-biotechnology"
      },
      "source": [
        "##### Respuesta\n",
        "Como se visualiza en la gráfica anterior si se presenta la diferencia en tiempo según la clasificación dada de las personas correspondientes a las edade establecidas,a pesar de que sea poco este promedio, figura un promedio de recuperación según los datos obtenidos"
      ],
      "id": "statewide-biotechnology"
    },
    {
      "cell_type": "markdown",
      "metadata": {
        "id": "amended-gibson"
      },
      "source": [
        "#### 12.e.2 Grafique el tiempo de recuperación media de los pacientes, con respecto a su categoría de edad. Asegúrese de presentar adecuadamente las gráficas, con títulos, nombres en los ejes y leyendas de ser necesario. ¿Qué puede inferir de esta gráfica? Analice y describa estos resultad"
      ],
      "id": "amended-gibson"
    },
    {
      "cell_type": "code",
      "metadata": {
        "id": "digital-berry",
        "outputId": "fc7a29de-260f-4f46-9a2b-97e6559f6255"
      },
      "source": [
        "fig, (h) = plt.subplots(figsize=(22,8),ncols=1)\n",
        "hombres = df.RECUPERACION[df.EDAD <= 29][df.EDAD >=18]\n",
        "\n",
        "h.hist(hombres, bins = np.arange(0,80,5),label = 'Hombres', alpha = 0.5, color=\"orangered\")\n",
        "h.title.set_text(\"Recuperación en hombres de 21 años\")\n",
        "h.set_xlabel('Distribución en hombres') #nombre del eje x\n",
        "h.set_ylabel('Tiempo de recuperación en hombres con edad de 21 años') #nombre del eje y\n",
        "\n",
        "\n",
        "\n"
      ],
      "id": "digital-berry",
      "execution_count": null,
      "outputs": [
        {
          "output_type": "execute_result",
          "data": {
            "text/plain": [
              "Text(0, 0.5, 'Tiempo de recuperación en hombres con edad de 21 años')"
            ]
          },
          "metadata": {
            "tags": []
          },
          "execution_count": 140
        },
        {
          "output_type": "display_data",
          "data": {
            "image/png": "[encoded data removed]",
            "text/plain": [
              "<Figure size 1584x576 with 1 Axes>"
            ]
          },
          "metadata": {
            "tags": [],
            "needs_background": "light"
          }
        }
      ]
    },
    {
      "cell_type": "markdown",
      "metadata": {
        "id": "greater-chapel"
      },
      "source": [
        "##### Respuesta\n",
        "El comportamieno representado con el histograma, representa la frecuencia de recuperacion de los hombres (la cual me corresponde la categoria de \"Jovenes), representa el tiempo de recuperación con mayor frecuencia de 15 a 20 días"
      ],
      "id": "greater-chapel"
    },
    {
      "cell_type": "markdown",
      "metadata": {
        "id": "thorough-obligation"
      },
      "source": [
        "#### 12.f ¿Hay diferencias entre el tiempo medio de recuperación de los Extranjeros y de los Colombianos? Sustente su respuesta."
      ],
      "id": "thorough-obligation"
    },
    {
      "cell_type": "code",
      "metadata": {
        "id": "unique-sauce",
        "outputId": "7f8af6a1-7fdf-4f86-a759-e48da2200295"
      },
      "source": [
        "promedio = np.mean(df.RECUPERACION[df.ORIGEN == 'COLOMBIA'])\n",
        "print(\"El tiempo promedio de la recuperación de los pacientes con COVID-19 en Colombia es de: \",promedio,'\\n')\n",
        "\n",
        "promedio2 = np.mean(df.RECUPERACION[df.ORIGEN == 'EXTRANJERO'])\n",
        "print(\"El tiempo promedio de la recuperación de los pacientes con COVID-19 en el extranjero es de: \",promedio2)"
      ],
      "id": "unique-sauce",
      "execution_count": null,
      "outputs": [
        {
          "output_type": "stream",
          "text": [
            "El tiempo promedio de la recuperación de los pacientes con COVID-19 en Colombia es de:  16.25130182826803 \n",
            "\n",
            "El tiempo promedio de la recuperación de los pacientes con COVID-19 en el extranjero es de:  21.152901785714285\n"
          ],
          "name": "stdout"
        }
      ]
    },
    {
      "cell_type": "markdown",
      "metadata": {
        "id": "pursuant-whale"
      },
      "source": [
        "#### 12.g ¿Hay diferencia entre el tiempo medio de recuperación de los pacientes en Bogotá D.C. y el resto del país? Sustente su respuesta."
      ],
      "id": "pursuant-whale"
    },
    {
      "cell_type": "code",
      "metadata": {
        "id": "distant-threat",
        "outputId": "cfe25d0c-1fc4-42de-e620-28267351885b"
      },
      "source": [
        "promedio = np.mean(df.RECUPERACION[df.DEPARTAMENTO == 'Bogotá D.C.'])\n",
        "print(\"El tiempo promedio de la recuperación de los pacientes con COVID-19 en Colombia es de: \",promedio,'\\n')\n",
        "\n",
        "\n",
        "promedio2 = np.mean(df.RECUPERACION[df.DEPARTAMENTO != 'Bogotá D.C.'])\n",
        "print(\"El tiempo promedio de la recuperación de los pacientes con COVID-19 en Colombia es de: \",promedio2,'\\n')"
      ],
      "id": "distant-threat",
      "execution_count": null,
      "outputs": [
        {
          "output_type": "stream",
          "text": [
            "El tiempo promedio de la recuperación de los pacientes con COVID-19 en Colombia es de:  18.847361259045027 \n",
            "\n",
            "El tiempo promedio de la recuperación de los pacientes con COVID-19 en Colombia es de:  15.055717387943272 \n",
            "\n"
          ],
          "name": "stdout"
        }
      ]
    },
    {
      "cell_type": "markdown",
      "metadata": {
        "id": "active-title"
      },
      "source": [
        "### Parte 3 - Preguntas Reflexivas (15%) \n",
        "\n",
        "1. Basándose en su propia experiencia, reflexione y discuta sobre cómo la integración de lasherramientas Python, Jupyter Notebooks/Colab, Numpy, Pandas y Matplotlib, pueden brindarle una ventaja a la hora de trabajar con datos, y realizar análisis para la mejor toma de decisiones. Compare dichas herramientas con sus prácticas usuales y/u otras tecnologías similares con las que haya trabajado. En lo posible, discuta casos de uso concisos, y provea ejemplos para ilustrar sus comparaciones. (Máx. 500 palabras)\n",
        "\n"
      ],
      "id": "active-title"
    },
    {
      "cell_type": "markdown",
      "metadata": {
        "id": "radical-flour"
      },
      "source": [
        "_1.  Basandonos sobre las herramientas usadas como Python, Jupyther y Collab, además de la integración con Numpy, Pandas y Matplotlib, se puede brindar información mucho más relevante, organizada, expuesta de carácter que se puedan tomar desiciones. En cuestión del uso de estos ambientedes y librerías permite discutir casos de la vida actualidad, los cuales se pueden relacionar con situaciones reales, como lo es la pandemia, la representación de como va avanzando la vacunación. Se pueden integrar diferentes modelos en los cuales se pueden analizar su comportamiento, tomar desiciones, inferir comportamiento futuro._"
      ],
      "id": "radical-flour"
    },
    {
      "cell_type": "markdown",
      "metadata": {
        "id": "revolutionary-breakfast"
      },
      "source": [
        "2. ¿Cree usted que podría implementar las herramientas y prácticas que hemos visto en clase hasta el momento, en sus actividades diarias como Ingeniero? ¿Cuáles otros usos cree que podría darle a dichas tecnologías? ¿Qué ventajas y dificultades prevé a la hora de incorporarlas en su día a día? (Máx. 500 palabras)\n"
      ],
      "id": "revolutionary-breakfast"
    },
    {
      "cell_type": "markdown",
      "metadata": {
        "id": "similar-foundation"
      },
      "source": [
        "_2.  Actualmente trabajo con información bursatíl por lo cual es necesario la ejecución de Python para extraer los datos y darles un formato, una estructura, ejecución rápida de consulta, en el uso de cuadernos como Jupyter y Collab se puede visualizar mejor su comportamiento diarío teniendo en cuenta que es información volatíl y que este cambia a lo largo del día según operaciones registradas en el mercado, aunque ya hayan soluciones como pantallas informativas se puede descargar estos informes públicos y visualizar su comportamiento a un lapso de tiempo futuro dependiendo de como se comporta el mercado. Es por esto que lo veo como un caso víalbe para la transformación de estos datos busatiles y representarlo de forma que se puedan tomar desiciones en el mercado._"
      ],
      "id": "similar-foundation"
    }
  ]
}