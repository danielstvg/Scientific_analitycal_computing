{
  "nbformat": 4,
  "nbformat_minor": 0,
  "metadata": {
    "colab": {
      "name": "Taller 3 - Contenedores de Datos, Vectores, Matrices y Álgebra.ipynb",
      "provenance": [],
      "include_colab_link": true
    },
    "kernelspec": {
      "name": "python3",
      "display_name": "Python 3"
    }
  },
  "cells": [
    {
      "cell_type": "markdown",
      "metadata": {
        "id": "view-in-github",
        "colab_type": "text"
      },
      "source": [
        "<a href=\"https://colab.research.google.com/github/danielstvg/Scientific_analitycal_computing/blob/main/Taller%203%20-%20Contenedores%20de%20Datos%2C%20Vectores%2C%20Matrices%20y%20%C3%81lgebra.ipynb\" target=\"_parent\"><img src=\"https://colab.research.google.com/assets/colab-badge.svg\" alt=\"Open In Colab\"/></a>"
      ]
    },
    {
      "cell_type": "markdown",
      "metadata": {
        "id": "4-rm0lz2v3e9"
      },
      "source": [
        "# Taller Semana 3 - Contenedores de Datos, Vectores, Matrices y Álgebra\n",
        "* Daniel Steven Vargas Guzmán [dsvargas@unbosque.edu.co](mailto://dsvargas@unbosque.edu.co)\n",
        "*2 de Marzo del 2021\n"
      ]
    },
    {
      "cell_type": "markdown",
      "metadata": {
        "id": "IC1CoCAB7gwx"
      },
      "source": [
        "# Chapter 3 - Container Type Scientific Computing"
      ]
    },
    {
      "cell_type": "code",
      "metadata": {
        "colab": {
          "base_uri": "https://localhost:8080/"
        },
        "id": "6Iq2MR_fwedZ",
        "outputId": "f56bab40-3472-457f-8832-52f5e807622d"
      },
      "source": [
        "#Ex. 1.1 → Execute the following statements:\n",
        " \n",
        "L = [1,2]\n",
        "L3 = 3*L\n",
        "print(L3)"
      ],
      "execution_count": null,
      "outputs": [
        {
          "output_type": "stream",
          "text": [
            "[1, 2, 1, 2, 1, 2]\n"
          ],
          "name": "stdout"
        }
      ]
    },
    {
      "cell_type": "markdown",
      "metadata": {
        "id": "7F-vzrnqx7E6"
      },
      "source": [
        "```python\n",
        "#Ex. 1.2 -> Try to predict the outcome of the following commands:\n",
        "L3[0]  #1\n",
        "L3[-1] #2\n",
        "L3[10] #Error because 10 is out of range of the list\n",
        "```"
      ]
    },
    {
      "cell_type": "code",
      "metadata": {
        "colab": {
          "base_uri": "https://localhost:8080/"
        },
        "id": "Y45RzfTNx5pT",
        "outputId": "78e4a8cd-14cb-4cc5-c9dc-95bf1dfa7d22"
      },
      "source": [
        "#Ex. 1.3 -> What does the following command do?\n",
        " \n",
        "L4 = [k**2 for k in L3]\n",
        "print(L4)\n",
        " \n",
        "# Take all the elments in the list L3 and square that element, then it saves in the list L4"
      ],
      "execution_count": null,
      "outputs": [
        {
          "output_type": "stream",
          "text": [
            "[1, 4, 1, 4, 1, 4]\n"
          ],
          "name": "stdout"
        }
      ]
    },
    {
      "cell_type": "code",
      "metadata": {
        "colab": {
          "base_uri": "https://localhost:8080/"
        },
        "id": "BWDQD02zzDoa",
        "outputId": "a9603250-0470-451b-f8f2-43774844c138"
      },
      "source": [
        "#Ex. 1.4 -> Concatenate L3 and L4 to a new list L5\n",
        " \n",
        "L5 = L3 + L4\n",
        "print(\"Concatenate L3 and L4 in L5: \")\n",
        "print(L5)"
      ],
      "execution_count": null,
      "outputs": [
        {
          "output_type": "stream",
          "text": [
            "Concatenate L3 and L4 in L5: \n",
            "[1, 2, 1, 2, 1, 2, 1, 4, 1, 4, 1, 4]\n"
          ],
          "name": "stdout"
        }
      ]
    },
    {
      "cell_type": "code",
      "metadata": {
        "colab": {
          "base_uri": "https://localhost:8080/"
        },
        "id": "IVeTTecszZUV",
        "outputId": "c8484899-d9d7-45dd-a9d4-c3adbae04ca3"
      },
      "source": [
        "#Ex. 2 → Use the range command and a list comprehension to generate a list with 100 equidistantly spaced values between 0 and 1\n",
        "x = []\n",
        "for i in range(100):\n",
        "  x.append(i*0.01)\n",
        "print(\" ------------ equidistantly numbers ------------\")\n",
        "print(x)"
      ],
      "execution_count": null,
      "outputs": [
        {
          "output_type": "stream",
          "text": [
            " ------------ equidistantly numbers ------------\n",
            "[0.0, 0.01, 0.02, 0.03, 0.04, 0.05, 0.06, 0.07, 0.08, 0.09, 0.1, 0.11, 0.12, 0.13, 0.14, 0.15, 0.16, 0.17, 0.18, 0.19, 0.2, 0.21, 0.22, 0.23, 0.24, 0.25, 0.26, 0.27, 0.28, 0.29, 0.3, 0.31, 0.32, 0.33, 0.34, 0.35000000000000003, 0.36, 0.37, 0.38, 0.39, 0.4, 0.41000000000000003, 0.42, 0.43, 0.44, 0.45, 0.46, 0.47000000000000003, 0.48, 0.49, 0.5, 0.51, 0.52, 0.53, 0.54, 0.55, 0.56, 0.5700000000000001, 0.58, 0.59, 0.6, 0.61, 0.62, 0.63, 0.64, 0.65, 0.66, 0.67, 0.68, 0.6900000000000001, 0.7000000000000001, 0.71, 0.72, 0.73, 0.74, 0.75, 0.76, 0.77, 0.78, 0.79, 0.8, 0.81, 0.8200000000000001, 0.8300000000000001, 0.84, 0.85, 0.86, 0.87, 0.88, 0.89, 0.9, 0.91, 0.92, 0.93, 0.9400000000000001, 0.9500000000000001, 0.96, 0.97, 0.98, 0.99]\n"
          ],
          "name": "stdout"
        }
      ]
    },
    {
      "cell_type": "markdown",
      "metadata": {
        "id": "Ud7XLEDS1lDx"
      },
      "source": [
        "###Ex. 3 → Assume that the following signal is stored in a list:\n",
        "```python\n",
        "\n",
        "L = [0,1,2,1,0,-1,-2,-1,0]\n",
        "L[:-1]\n",
        "What is the outcome of:\n",
        "\n",
        "L[0] = 0\n",
        "L[-1] = 0\n",
        "L[:-1] = [0,1,2,1,0,-1,-2,-1]\n",
        "L + L[1:-1] + L = [0,1,2,1,0,-1,-2,-1,0,1,2,1,0,-1,-2,-1,0,1,2,1,0,1,-1,-2,-1,0]\n",
        "L[2:2] = [-3] = [0,1,2,-3,1,0,-1,-2,-1]\n",
        "L[3:4] = [] = [0,1,2,0,-1,-2,-1,0]\n",
        "L[2:5] = [-5] = [0,1,-5,-1,-2,-1,0]\n",
        "\n",
        "```"
      ]
    },
    {
      "cell_type": "markdown",
      "metadata": {
        "id": "-J-483ln5BSW"
      },
      "source": [
        "```python\n",
        "#Ex. 4 → Consider the Python statements\n",
        "\n",
        "L = [n-m/2 for n in range(m)]\n",
        "ans = 1 + L[0] + L[-1]\n",
        "\n",
        "#and assume that the variable m has been previously assigned an integer value. What is the value of ans? Answer this question \n",
        "#without executing the statements in Python.\n",
        "\n",
        "```\n",
        "\n",
        "###The answer to the value of ANS is given because the sum of the first two alues ​​(1 + L (0]) is the same as that of L [-1] but in a negative way, so the answer will always be 0\n",
        "\n"
      ]
    },
    {
      "cell_type": "code",
      "metadata": {
        "colab": {
          "base_uri": "https://localhost:8080/"
        },
        "id": "vOA46RYp72IA",
        "outputId": "a521b9b2-5958-47c0-9240-7881741ea581"
      },
      "source": [
        "#Ex. 6 → Let A and B be sets. The set (A \\ B) ∪ (B \\ A) is called the symmetric difference of\n",
        "#the two sets. Write a function that performs this operation. Compare your results to the\n",
        "#result of the command:\n",
        " \n",
        " \n",
        "A = {'1','2','3','4','5','6','7','8','8','9','0'}\n",
        "B = {'13','1','7','14'}\n",
        " \n",
        "a = A.difference(B)\n",
        "b = B.difference(A)\n",
        "a.union(b)\n",
        " \n",
        " \n",
        "print(\"function: \",a.union(b))\n",
        "print(\"command: \",A.symmetric_difference(B))"
      ],
      "execution_count": null,
      "outputs": [
        {
          "output_type": "stream",
          "text": [
            "function:  {'4', '8', '5', '3', '0', '9', '14', '6', '13', '2'}\n",
            "command:  {'4', '8', '5', '3', '0', '14', '9', '13', '6', '2'}\n"
          ],
          "name": "stdout"
        }
      ]
    },
    {
      "cell_type": "code",
      "metadata": {
        "colab": {
          "base_uri": "https://localhost:8080/"
        },
        "id": "fGm6ko1f-FeY",
        "outputId": "ccd8a69f-f856-42f9-aa74-ac92c275476f"
      },
      "source": [
        "#Ex. 7 → Verify in Python the statement that the empty set is a subset of any set.\n",
        " \n",
        "empty = set([])\n",
        "sett = {'a','b','c','d','e','f','g','h','i','j','k','l','m','n','o','p','q','r','s','t','u','v','w','x','y','z'}\n",
        "empty_set.issubset(sett)"
      ],
      "execution_count": null,
      "outputs": [
        {
          "output_type": "execute_result",
          "data": {
            "text/plain": [
              "True"
            ]
          },
          "metadata": {
            "tags": []
          },
          "execution_count": 55
        }
      ]
    },
    {
      "cell_type": "markdown",
      "metadata": {
        "id": "c1rLh7SDA3dS"
      },
      "source": [
        "# Chapter 4 Linear Algebra - Arrays\n",
        "\n",
        "![image.png](data:image/png;base64,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)"
      ]
    },
    {
      "cell_type": "code",
      "metadata": {
        "colab": {
          "base_uri": "https://localhost:8080/"
        },
        "id": "JMGRa29RB_EP",
        "outputId": "bffb7770-bd73-4c57-897a-fbccfd70c1df"
      },
      "source": [
        "#1.1. Construct this matrix in Python using the function array .\n",
        "import numpy as np\n",
        "from numpy import array\n",
        " \n",
        " \n",
        "Matrix = np.arange(1,13)\n",
        "print('Matrix: ')\n",
        "Matrix"
      ],
      "execution_count": null,
      "outputs": [
        {
          "output_type": "stream",
          "text": [
            "Matrix: \n"
          ],
          "name": "stdout"
        },
        {
          "output_type": "execute_result",
          "data": {
            "text/plain": [
              "array([ 1,  2,  3,  4,  5,  6,  7,  8,  9, 10, 11, 12])"
            ]
          },
          "metadata": {
            "tags": []
          },
          "execution_count": 50
        }
      ]
    },
    {
      "cell_type": "code",
      "metadata": {
        "colab": {
          "base_uri": "https://localhost:8080/"
        },
        "id": "4qCxVet3F5DK",
        "outputId": "839abb9a-5ba5-4646-ceb5-b52da9424c79"
      },
      "source": [
        "#1.2. Construct the same matrix using the function arange followed by a suitable\n",
        "#reshape.\n",
        " \n",
        "Matrix2 = np.arange(1,13).reshape((2,6))\n",
        "print(\"Matrix 2 using reshape\")\n",
        "print(Matrix2,\"\\n\")"
      ],
      "execution_count": null,
      "outputs": [
        {
          "output_type": "stream",
          "text": [
            "Matrix 2 using reshape\n",
            "[[ 1  2  3  4  5  6]\n",
            " [ 7  8  9 10 11 12]] \n",
            "\n"
          ],
          "name": "stdout"
        }
      ]
    },
    {
      "cell_type": "code",
      "metadata": {
        "colab": {
          "base_uri": "https://localhost:8080/"
        },
        "id": "1H-Qu_5hHXyG",
        "outputId": "8aeea685-4cc7-4021-d8e1-ea410df60120"
      },
      "source": [
        "#1.3. What is the result of the expression M[2,:] ? What is the result of the similar\n",
        "#expression M[2:]?\n",
        " \n",
        "Matrix3 = np.arange(1,13).reshape((4,3))\n",
        "print(\"initial result: \", Matrix3[2,:], \"\\n\")\n",
        " \n",
        "print(\"final result: \")\n",
        "Matrix3[2:]"
      ],
      "execution_count": null,
      "outputs": [
        {
          "output_type": "stream",
          "text": [
            "initial result:  [7 8 9] \n",
            "\n",
            "final result: \n"
          ],
          "name": "stdout"
        },
        {
          "output_type": "execute_result",
          "data": {
            "text/plain": [
              "array([[ 7,  8,  9],\n",
              "       [10, 11, 12]])"
            ]
          },
          "metadata": {
            "tags": []
          },
          "execution_count": 52
        }
      ]
    },
    {
      "cell_type": "code",
      "metadata": {
        "colab": {
          "base_uri": "https://localhost:8080/",
          "height": 339
        },
        "id": "I6Tkt7SbICnh",
        "outputId": "aaa10745-7c88-421c-ee43-b650adb0ec14"
      },
      "source": [
        "#Ex. 4 → Let u be a one dimensional array. Construct another array ξ with values ξi = (u1 + ui+1+ ui+2)/3.\n",
        "#In statistics, this array is called the moving average of u. In approximation theory, it\n",
        "#plays the role as the Greville abscissae of cubic splines. Try to avoid the use of for loops in\n",
        "#your script.\n",
        "from scipy.interpolate import CubicSpline\n",
        "import matplotlib.pyplot as plt\n",
        " \n",
        "u = np.arange(10)\n",
        "print(u,\"\\n\")\n",
        "med=np.mean(u)\n",
        "epsilon = (med/len(u))\n",
        "print(\"the value for the formula (e) epsilon is: \", epsilon,\"\\n\")\n",
        " \n",
        "# the data play a behaviur like a cubic splines, as we can see in the plot\n",
        "y = np.sin(u)\n",
        "cs = CubicSpline(u, y)\n",
        "fig, ax = plt.subplots(figsize=(9, 6))\n",
        "xs = np.arange(-0.5, 9.6, 0.1)\n",
        "ax.plot(u, np.sin(u), label='true')\n",
        "ax.plot(xs, np.sin(xs), label='true')\n",
        "ax.plot(u, y, 'o', label='data')\n",
        "ax.plot(epsilon)\n",
        " \n",
        "plt.show()"
      ],
      "execution_count": null,
      "outputs": [
        {
          "output_type": "stream",
          "text": [
            "[0 1 2 3 4 5 6 7 8 9] \n",
            "\n",
            "the value for the formula (e) epsilon is:  0.45 \n",
            "\n"
          ],
          "name": "stdout"
        },
        {
          "output_type": "display_data",
          "data": {
            "image/png": "[encoded data removed]",
            "text/plain": [
              "<Figure size 648x432 with 1 Axes>"
            ]
          },
          "metadata": {
            "tags": [],
            "needs_background": "light"
          }
        }
      ]
    },
    {
      "cell_type": "markdown",
      "metadata": {
        "id": "dOxh4vJcOY6H"
      },
      "source": [
        "###Ex. 7 → Let v be a vector written in its coordinate form as a 3 × 1 matrix [1 -1 1]T\n",
        "\n",
        "###Construct the projection matrices:\n",
        "![image.png](data:image/png;base64,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)\n",
        "\n",
        "###Show experimentally that v is an eigenvector for both matrices P and Q. What are the corresponding eigenvalues?"
      ]
    },
    {
      "cell_type": "code",
      "metadata": {
        "id": "dwq43mg-OOsm",
        "colab": {
          "base_uri": "https://localhost:8080/"
        },
        "outputId": "13a52fd6-181d-4e50-f9dd-147c01264cf8"
      },
      "source": [
        "from numpy import dot\n",
        " \n",
        "v = array([1,-1,1])\n",
        "v.reshape((3,1))\n",
        "print(\"vT: \\n\",v)\n",
        "print(\"v: \\n\",v.T)\n",
        "x = np.transpose(v)\n",
        "p = ( x*v/v*x)\n",
        "print(\"Result P: \\n\",p)\n",
        "q = np.identity(3) - p\n",
        "print(\"Result q: \\n\",q)"
      ],
      "execution_count": null,
      "outputs": [
        {
          "output_type": "stream",
          "text": [
            "vT: \n",
            " [ 1 -1  1]\n",
            "v: \n",
            " [ 1 -1  1]\n",
            "Result P: \n",
            " [1. 1. 1.]\n",
            "Result q: \n",
            " [[ 0. -1. -1.]\n",
            " [-1.  0. -1.]\n",
            " [-1. -1.  0.]]\n"
          ],
          "name": "stdout"
        }
      ]
    }
  ]
}